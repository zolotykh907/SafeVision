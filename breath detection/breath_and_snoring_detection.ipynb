{
 "cells": [
  {
   "cell_type": "code",
   "execution_count": 1,
   "metadata": {
    "_cell_guid": "b1076dfc-b9ad-4769-8c92-a6c4dae69d19",
    "_kg_hide-input": true,
    "_kg_hide-output": true,
    "_uuid": "8f2839f25d086af736a60e9eeb907d3b93b6e0e5",
    "collapsed": true,
    "execution": {
     "iopub.execute_input": "2023-08-21T21:24:06.479142Z",
     "iopub.status.busy": "2023-08-21T21:24:06.478323Z",
     "iopub.status.idle": "2023-08-21T21:24:09.292852Z",
     "shell.execute_reply": "2023-08-21T21:24:09.291625Z",
     "shell.execute_reply.started": "2023-08-21T21:24:06.479098Z"
    },
    "jupyter": {
     "outputs_hidden": true
    },
    "trusted": true
   },
   "outputs": [
    {
     "name": "stderr",
     "output_type": "stream",
     "text": [
      "2024-11-22 01:47:07.067867: I tensorflow/core/util/port.cc:153] oneDNN custom operations are on. You may see slightly different numerical results due to floating-point round-off errors from different computation orders. To turn them off, set the environment variable `TF_ENABLE_ONEDNN_OPTS=0`.\n",
      "2024-11-22 01:47:07.080397: E external/local_xla/xla/stream_executor/cuda/cuda_fft.cc:477] Unable to register cuFFT factory: Attempting to register factory for plugin cuFFT when one has already been registered\n",
      "WARNING: All log messages before absl::InitializeLog() is called are written to STDERR\n",
      "E0000 00:00:1732214827.091988  152755 cuda_dnn.cc:8310] Unable to register cuDNN factory: Attempting to register factory for plugin cuDNN when one has already been registered\n",
      "E0000 00:00:1732214827.095118  152755 cuda_blas.cc:1418] Unable to register cuBLAS factory: Attempting to register factory for plugin cuBLAS when one has already been registered\n",
      "2024-11-22 01:47:07.108504: I tensorflow/core/platform/cpu_feature_guard.cc:210] This TensorFlow binary is optimized to use available CPU instructions in performance-critical operations.\n",
      "To enable the following instructions: AVX2 AVX512F AVX512_VNNI AVX512_BF16 FMA, in other operations, rebuild TensorFlow with the appropriate compiler flags.\n"
     ]
    }
   ],
   "source": [
    "import numpy as np \n",
    "import pandas as pd\n",
    "import seaborn as sns\n",
    "import matplotlib.pyplot as plt\n",
    "import os\n",
    "import librosa\n",
    "import librosa.display\n",
    "import IPython.display as ipd\n",
    "import tensorflow as tf\n",
    "import matplotlib.pyplot as plt\n",
    "from tensorflow import keras\n",
    "from tensorflow.keras import layers\n",
    "from keras.models import Sequential\n",
    "from tensorflow.keras.callbacks import ModelCheckpoint, EarlyStopping, TensorBoard, ReduceLROnPlateau"
   ]
  },
  {
   "cell_type": "code",
   "execution_count": 2,
   "metadata": {
    "execution": {
     "iopub.execute_input": "2023-08-21T21:47:11.045872Z",
     "iopub.status.busy": "2023-08-21T21:47:11.045411Z",
     "iopub.status.idle": "2023-08-21T21:47:11.057039Z",
     "shell.execute_reply": "2023-08-21T21:47:11.055618Z",
     "shell.execute_reply.started": "2023-08-21T21:47:11.045836Z"
    },
    "trusted": true
   },
   "outputs": [],
   "source": [
    "def load_audio(AUDIO_PATH):\n",
    "    audio, sr = librosa.load(AUDIO_PATH)\n",
    "    return audio, sr\n",
    "\n",
    "def wav2melSpec(AUDIO_PATH):\n",
    "    audio, sr = librosa.load(AUDIO_PATH)\n",
    "    return librosa.feature.melspectrogram(y=audio, sr=sr)\n",
    "\n",
    "def imgSpec(ms_feature):\n",
    "    fig, ax = plt.subplots()\n",
    "    ms_dB = librosa.power_to_db(ms_feature, ref=np.max)\n",
    "    #print(ms_feature.shape)\n",
    "    img = librosa.display.specshow(ms_dB, x_axis='time', y_axis='mel', ax=ax)\n",
    "    fig.colorbar(img, ax=ax, format='%+2.0f dB')\n",
    "    ax.set(title='Mel-frequency spectrogram');\n",
    "    \n",
    "def hear_audio(AUDIO_PATH):\n",
    "    audio, sr = librosa.load(AUDIO_PATH)\n",
    "    #print(\"\\t\", end=\"\")\n",
    "    ipd.display(ipd.Audio(data=audio, rate=sr))\n",
    "    \n",
    "    \n",
    "def get_audio_info(path, show_melspec=False, label=None):\n",
    "    spec = wav2melSpec(path)\n",
    "    if label is not None:\n",
    "        pass\n",
    "        #print(\"Label:\", label)\n",
    "    if show_melspec is not False:\n",
    "        imgSpec(spec)\n",
    "    hear_audio(path)"
   ]
  },
  {
   "cell_type": "code",
   "execution_count": 29,
   "metadata": {
    "execution": {
     "iopub.execute_input": "2023-08-21T21:56:37.269917Z",
     "iopub.status.busy": "2023-08-21T21:56:37.269419Z",
     "iopub.status.idle": "2023-08-21T21:56:37.278624Z",
     "shell.execute_reply": "2023-08-21T21:56:37.27742Z",
     "shell.execute_reply.started": "2023-08-21T21:56:37.269881Z"
    },
    "trusted": true
   },
   "outputs": [],
   "source": [
    "MFCC_NUM =  28\n",
    "SAMPLING_RATE = 44100 \n",
    "MFCC_MAX_LEN = 128 \n",
    "\n",
    "def wav2mfcc(wave, max_len=MFCC_MAX_LEN):\n",
    "    mfcc = librosa.feature.mfcc(y=wave, n_mfcc=MFCC_NUM, sr=SAMPLING_RATE)\n",
    "    if (max_len > mfcc.shape[1]):\n",
    "        pad_width = max_len - mfcc.shape[1]\n",
    "        mfcc = np.pad(mfcc, pad_width=((0, 0), (0, pad_width)), mode='constant')\n",
    "\n",
    "    else:\n",
    "        mfcc = mfcc[:, :max_len]\n",
    "    \n",
    "    return mfcc"
   ]
  },
  {
   "cell_type": "code",
   "execution_count": 4,
   "metadata": {
    "execution": {
     "iopub.execute_input": "2023-08-21T21:59:05.246098Z",
     "iopub.status.busy": "2023-08-21T21:59:05.244964Z",
     "iopub.status.idle": "2023-08-21T21:59:05.250467Z",
     "shell.execute_reply": "2023-08-21T21:59:05.249278Z",
     "shell.execute_reply.started": "2023-08-21T21:59:05.246055Z"
    },
    "trusted": true
   },
   "outputs": [],
   "source": [
    "breath_path =  \"SafeVision/breath detection\\Breath_Dataset2\""
   ]
  },
  {
   "cell_type": "code",
   "execution_count": 30,
   "metadata": {},
   "outputs": [
    {
     "name": "stderr",
     "output_type": "stream",
     "text": [
      "Processing class 0: 100%|██████████| 500/500 [00:07<00:00, 63.77file/s]\n",
      "Processing class 1: 100%|██████████| 714/714 [00:11<00:00, 62.00file/s]\n",
      "Processing class 2: 100%|██████████| 257/257 [00:04<00:00, 63.77file/s]\n"
     ]
    },
    {
     "name": "stdout",
     "output_type": "stream",
     "text": [
      "Total processed MFCC spectrograms: 2942\n"
     ]
    }
   ],
   "source": [
    "from tqdm import tqdm\n",
    "\n",
    "DATASET_PATH = r\"Breath_and_snoring_Dataset\"\n",
    "\n",
    "SAMPLING_RATE = 44100  # Стандартная частота дискретизации для librosa\n",
    "# def wav2mfcc(audio, sr=SAMPLING_RATE, n_mfcc=256):\n",
    "#     # Вычисление MFCC спектрограммы\n",
    "#     # mfcc = librosa.feature.mfcc(y=audio, sr=sr, n_mfcc=n_mfcc)\n",
    "#     # Приведение к фиксированному размеру по времени (128 фреймов)\n",
    "#     # mfcc = librosa.util.fix_length(mfcc, size=128, axis=1)\n",
    "#     # audio, sr = librosa.load(file_path, sr=SAMPLING_RATE)\n",
    "    \n",
    "#     # Преобразуем в спектрограмму с использованием STFT (Short-Time Fourier Transform)\n",
    "#     spectrogram = librosa.stft(audio, n_fft=320, hop_length=32)\n",
    "#     spectrogram = np.abs(spectrogram)\n",
    "#     mfcc = librosa.feature.mfcc(S=librosa.power_to_db(spectrogram), n_mfcc=MFCC_NUM, sr=SAMPLING_RATE)\n",
    "#     return mfcc\n",
    "\n",
    "mfcc_spectograms = []\n",
    "\n",
    "classes = ['0', '1', '2']\n",
    "\n",
    "for class_label in classes:\n",
    "    class_path = os.path.join(DATASET_PATH, class_label)\n",
    "    \n",
    "    if os.path.exists(class_path):\n",
    "        files_in_dir = os.listdir(class_path)\n",
    "        \n",
    "        for file_name in tqdm(files_in_dir, desc=f\"Processing class {class_label}\", unit=\"file\"):\n",
    "            if file_name.endswith('.wav'):\n",
    "                try:\n",
    "                    audio, _ = librosa.load(os.path.join(class_path, file_name), sr=SAMPLING_RATE)\n",
    "\n",
    "                    spectrogram = np.expand_dims(wav2mfcc(audio), axis=-1)\n",
    "\n",
    "                    mfcc_spectograms.append((spectrogram, int(class_label)))\n",
    "\n",
    "                    audio_shifted = librosa.effects.pitch_shift(audio, sr=SAMPLING_RATE, n_steps=12)\n",
    "                    spectrogram_shifted = np.expand_dims(wav2mfcc(audio_shifted), axis=-1)\n",
    "\n",
    "                    mfcc_spectograms.append((spectrogram_shifted, int(class_label)))\n",
    "                    \n",
    "                    #print(f\"Processed file: {file_name} from class {class_label}\")\n",
    "                    \n",
    "                except Exception as e:\n",
    "                    print(f\"Error processing file {file_name}: {e}\")\n",
    "    else:\n",
    "        print(f\"Class directory {class_path} does not exist.\")\n",
    "\n",
    "print(f\"Total processed MFCC spectrograms: {len(mfcc_spectograms)}\")\n",
    "\n",
    "X = [x[0] for x in mfcc_spectograms]  # Спектрограммы\n",
    "y = [x[1] for x in mfcc_spectograms]  # Метки классов\n",
    "\n",
    "X = np.array(X)\n",
    "y = np.array(y)"
   ]
  },
  {
   "cell_type": "code",
   "execution_count": 31,
   "metadata": {},
   "outputs": [
    {
     "name": "stdout",
     "output_type": "stream",
     "text": [
      "Shape of X_train: (2647, 28, 128, 1)\n",
      "Shape of X_test: (295, 28, 128, 1)\n",
      "Shape of y_train: (2647,)\n",
      "Shape of y_test: (295,)\n"
     ]
    }
   ],
   "source": [
    "from sklearn.model_selection import train_test_split\n",
    "\n",
    "X_train, X_test, y_train, y_test = train_test_split(X, y, test_size=0.1, stratify=y, random_state=42)\n",
    "\n",
    "print(\"Shape of X_train:\", X_train.shape)\n",
    "print(\"Shape of X_test:\", X_test.shape)\n",
    "print(\"Shape of y_train:\", y_train.shape)\n",
    "print(\"Shape of y_test:\", y_test.shape)"
   ]
  },
  {
   "cell_type": "code",
   "execution_count": 7,
   "metadata": {},
   "outputs": [],
   "source": [
    "from tensorflow.keras.utils import to_categorical\n",
    "\n",
    "# Преобразуем метки в формат one-hot encoding\n",
    "y_train = to_categorical(y_train, num_classes=3)\n",
    "y_test = to_categorical(y_test, num_classes=3)\n"
   ]
  },
  {
   "cell_type": "code",
   "execution_count": 19,
   "metadata": {},
   "outputs": [
    {
     "name": "stderr",
     "output_type": "stream",
     "text": [
      "/home/egor/safeVision/myenv/lib/python3.10/site-packages/keras/src/layers/convolutional/base_conv.py:107: UserWarning: Do not pass an `input_shape`/`input_dim` argument to a layer. When using Sequential models, prefer using an `Input(shape)` object as the first layer in the model instead.\n",
      "  super().__init__(activity_regularizer=activity_regularizer, **kwargs)\n"
     ]
    }
   ],
   "source": [
    "from tensorflow.keras import Sequential, layers\n",
    "\n",
    "dropout = 0.1\n",
    "input_dim = (28, 128, 1)\n",
    "output_dim_vocab = 3\n",
    "\n",
    "model = Sequential([\n",
    "    #1 layer\n",
    "    layers.Conv2D(filters=32, kernel_size=[6, 6], strides=[2, 2], input_shape=input_dim, padding=\"same\", use_bias=False),\n",
    "    layers.BatchNormalization(),\n",
    "    layers.Activation(activation='leaky_relu'),\n",
    "    layers.MaxPooling2D(pool_size=(3, 3)),\n",
    "    layers.Dropout(dropout),\n",
    "    \n",
    "    # 2 layer\n",
    "    layers.Conv2D(128, (3, 3), padding='same'),\n",
    "    layers.BatchNormalization(),\n",
    "    layers.Activation(activation='relu'),\n",
    "    layers.Dropout(dropout),\n",
    "    \n",
    "    # 3 conv layer\n",
    "    layers.Conv2D(512, (3, 3), padding='same'),\n",
    "    layers.BatchNormalization(),\n",
    "    layers.Activation(activation='relu'),\n",
    "    layers.MaxPooling2D(pool_size=(2, 2)),\n",
    "    layers.Dropout(dropout),\n",
    "    \n",
    "    # 4 conv layer\n",
    "    layers.Conv2D(512, (3, 3), padding='same'),\n",
    "    layers.BatchNormalization(),\n",
    "    layers.Activation(activation='relu'),\n",
    "    layers.Dropout(dropout),\n",
    "    \n",
    "    layers.Flatten(),\n",
    "    \n",
    "    # Fully connected layer\n",
    "    layers.Dense(256, activation=\"relu\"),\n",
    "    layers.Dropout(dropout),\n",
    "    \n",
    "    # Output layer\n",
    "    layers.Dense(output_dim_vocab, activation=\"softmax\"),\n",
    "])\n"
   ]
  },
  {
   "cell_type": "code",
   "execution_count": 20,
   "metadata": {
    "execution": {
     "iopub.execute_input": "2023-08-21T22:14:28.219407Z",
     "iopub.status.busy": "2023-08-21T22:14:28.218951Z",
     "iopub.status.idle": "2023-08-21T22:14:28.242316Z",
     "shell.execute_reply": "2023-08-21T22:14:28.241373Z",
     "shell.execute_reply.started": "2023-08-21T22:14:28.219372Z"
    },
    "trusted": true
   },
   "outputs": [],
   "source": [
    "model.compile(optimizer='adam', loss='categorical_crossentropy', metrics=['accuracy', 'precision', 'recall'])"
   ]
  },
  {
   "cell_type": "code",
   "execution_count": 21,
   "metadata": {
    "execution": {
     "iopub.execute_input": "2023-08-21T22:15:06.778685Z",
     "iopub.status.busy": "2023-08-21T22:15:06.778205Z",
     "iopub.status.idle": "2023-08-21T22:15:06.787387Z",
     "shell.execute_reply": "2023-08-21T22:15:06.786107Z",
     "shell.execute_reply.started": "2023-08-21T22:15:06.778649Z"
    },
    "trusted": true
   },
   "outputs": [],
   "source": [
    "\n",
    "model_path = 'models'\n",
    "\n",
    "earlystopper = EarlyStopping(monitor='val_loss', patience=20, verbose=1, mode='min')\n",
    "checkpoint = ModelCheckpoint(f\"{model_path}/model_snoring_and_breathing_28_128.keras\", monitor='val_loss', verbose=1, save_best_only=True, mode='min')\n",
    "tb_callback = TensorBoard(f'{model_path}/logs', update_freq=1)\n",
    "reduceLROnPlat = ReduceLROnPlateau(monitor='val_loss', factor=0.8, min_delta=1e-10, patience=3, verbose=1, mode='auto')"
   ]
  },
  {
   "cell_type": "code",
   "execution_count": 22,
   "metadata": {
    "execution": {
     "iopub.execute_input": "2023-08-21T22:15:22.702078Z",
     "iopub.status.busy": "2023-08-21T22:15:22.701676Z",
     "iopub.status.idle": "2023-08-21T22:15:22.797843Z",
     "shell.execute_reply": "2023-08-21T22:15:22.796799Z",
     "shell.execute_reply.started": "2023-08-21T22:15:22.702047Z"
    },
    "trusted": true
   },
   "outputs": [
    {
     "data": {
      "text/html": [
       "<pre style=\"white-space:pre;overflow-x:auto;line-height:normal;font-family:Menlo,'DejaVu Sans Mono',consolas,'Courier New',monospace\"><span style=\"font-weight: bold\">Model: \"sequential_1\"</span>\n",
       "</pre>\n"
      ],
      "text/plain": [
       "\u001b[1mModel: \"sequential_1\"\u001b[0m\n"
      ]
     },
     "metadata": {},
     "output_type": "display_data"
    },
    {
     "data": {
      "text/html": [
       "<pre style=\"white-space:pre;overflow-x:auto;line-height:normal;font-family:Menlo,'DejaVu Sans Mono',consolas,'Courier New',monospace\">┏━━━━━━━━━━━━━━━━━━━━━━━━━━━━━━━━━┳━━━━━━━━━━━━━━━━━━━━━━━━┳━━━━━━━━━━━━━━━┓\n",
       "┃<span style=\"font-weight: bold\"> Layer (type)                    </span>┃<span style=\"font-weight: bold\"> Output Shape           </span>┃<span style=\"font-weight: bold\">       Param # </span>┃\n",
       "┡━━━━━━━━━━━━━━━━━━━━━━━━━━━━━━━━━╇━━━━━━━━━━━━━━━━━━━━━━━━╇━━━━━━━━━━━━━━━┩\n",
       "│ conv2d_4 (<span style=\"color: #0087ff; text-decoration-color: #0087ff\">Conv2D</span>)               │ (<span style=\"color: #00d7ff; text-decoration-color: #00d7ff\">None</span>, <span style=\"color: #00af00; text-decoration-color: #00af00\">14</span>, <span style=\"color: #00af00; text-decoration-color: #00af00\">64</span>, <span style=\"color: #00af00; text-decoration-color: #00af00\">32</span>)     │         <span style=\"color: #00af00; text-decoration-color: #00af00\">1,152</span> │\n",
       "├─────────────────────────────────┼────────────────────────┼───────────────┤\n",
       "│ batch_normalization_4           │ (<span style=\"color: #00d7ff; text-decoration-color: #00d7ff\">None</span>, <span style=\"color: #00af00; text-decoration-color: #00af00\">14</span>, <span style=\"color: #00af00; text-decoration-color: #00af00\">64</span>, <span style=\"color: #00af00; text-decoration-color: #00af00\">32</span>)     │           <span style=\"color: #00af00; text-decoration-color: #00af00\">128</span> │\n",
       "│ (<span style=\"color: #0087ff; text-decoration-color: #0087ff\">BatchNormalization</span>)            │                        │               │\n",
       "├─────────────────────────────────┼────────────────────────┼───────────────┤\n",
       "│ activation_4 (<span style=\"color: #0087ff; text-decoration-color: #0087ff\">Activation</span>)       │ (<span style=\"color: #00d7ff; text-decoration-color: #00d7ff\">None</span>, <span style=\"color: #00af00; text-decoration-color: #00af00\">14</span>, <span style=\"color: #00af00; text-decoration-color: #00af00\">64</span>, <span style=\"color: #00af00; text-decoration-color: #00af00\">32</span>)     │             <span style=\"color: #00af00; text-decoration-color: #00af00\">0</span> │\n",
       "├─────────────────────────────────┼────────────────────────┼───────────────┤\n",
       "│ max_pooling2d_2 (<span style=\"color: #0087ff; text-decoration-color: #0087ff\">MaxPooling2D</span>)  │ (<span style=\"color: #00d7ff; text-decoration-color: #00d7ff\">None</span>, <span style=\"color: #00af00; text-decoration-color: #00af00\">4</span>, <span style=\"color: #00af00; text-decoration-color: #00af00\">21</span>, <span style=\"color: #00af00; text-decoration-color: #00af00\">32</span>)      │             <span style=\"color: #00af00; text-decoration-color: #00af00\">0</span> │\n",
       "├─────────────────────────────────┼────────────────────────┼───────────────┤\n",
       "│ dropout_5 (<span style=\"color: #0087ff; text-decoration-color: #0087ff\">Dropout</span>)             │ (<span style=\"color: #00d7ff; text-decoration-color: #00d7ff\">None</span>, <span style=\"color: #00af00; text-decoration-color: #00af00\">4</span>, <span style=\"color: #00af00; text-decoration-color: #00af00\">21</span>, <span style=\"color: #00af00; text-decoration-color: #00af00\">32</span>)      │             <span style=\"color: #00af00; text-decoration-color: #00af00\">0</span> │\n",
       "├─────────────────────────────────┼────────────────────────┼───────────────┤\n",
       "│ conv2d_5 (<span style=\"color: #0087ff; text-decoration-color: #0087ff\">Conv2D</span>)               │ (<span style=\"color: #00d7ff; text-decoration-color: #00d7ff\">None</span>, <span style=\"color: #00af00; text-decoration-color: #00af00\">4</span>, <span style=\"color: #00af00; text-decoration-color: #00af00\">21</span>, <span style=\"color: #00af00; text-decoration-color: #00af00\">128</span>)     │        <span style=\"color: #00af00; text-decoration-color: #00af00\">36,992</span> │\n",
       "├─────────────────────────────────┼────────────────────────┼───────────────┤\n",
       "│ batch_normalization_5           │ (<span style=\"color: #00d7ff; text-decoration-color: #00d7ff\">None</span>, <span style=\"color: #00af00; text-decoration-color: #00af00\">4</span>, <span style=\"color: #00af00; text-decoration-color: #00af00\">21</span>, <span style=\"color: #00af00; text-decoration-color: #00af00\">128</span>)     │           <span style=\"color: #00af00; text-decoration-color: #00af00\">512</span> │\n",
       "│ (<span style=\"color: #0087ff; text-decoration-color: #0087ff\">BatchNormalization</span>)            │                        │               │\n",
       "├─────────────────────────────────┼────────────────────────┼───────────────┤\n",
       "│ activation_5 (<span style=\"color: #0087ff; text-decoration-color: #0087ff\">Activation</span>)       │ (<span style=\"color: #00d7ff; text-decoration-color: #00d7ff\">None</span>, <span style=\"color: #00af00; text-decoration-color: #00af00\">4</span>, <span style=\"color: #00af00; text-decoration-color: #00af00\">21</span>, <span style=\"color: #00af00; text-decoration-color: #00af00\">128</span>)     │             <span style=\"color: #00af00; text-decoration-color: #00af00\">0</span> │\n",
       "├─────────────────────────────────┼────────────────────────┼───────────────┤\n",
       "│ dropout_6 (<span style=\"color: #0087ff; text-decoration-color: #0087ff\">Dropout</span>)             │ (<span style=\"color: #00d7ff; text-decoration-color: #00d7ff\">None</span>, <span style=\"color: #00af00; text-decoration-color: #00af00\">4</span>, <span style=\"color: #00af00; text-decoration-color: #00af00\">21</span>, <span style=\"color: #00af00; text-decoration-color: #00af00\">128</span>)     │             <span style=\"color: #00af00; text-decoration-color: #00af00\">0</span> │\n",
       "├─────────────────────────────────┼────────────────────────┼───────────────┤\n",
       "│ conv2d_6 (<span style=\"color: #0087ff; text-decoration-color: #0087ff\">Conv2D</span>)               │ (<span style=\"color: #00d7ff; text-decoration-color: #00d7ff\">None</span>, <span style=\"color: #00af00; text-decoration-color: #00af00\">4</span>, <span style=\"color: #00af00; text-decoration-color: #00af00\">21</span>, <span style=\"color: #00af00; text-decoration-color: #00af00\">512</span>)     │       <span style=\"color: #00af00; text-decoration-color: #00af00\">590,336</span> │\n",
       "├─────────────────────────────────┼────────────────────────┼───────────────┤\n",
       "│ batch_normalization_6           │ (<span style=\"color: #00d7ff; text-decoration-color: #00d7ff\">None</span>, <span style=\"color: #00af00; text-decoration-color: #00af00\">4</span>, <span style=\"color: #00af00; text-decoration-color: #00af00\">21</span>, <span style=\"color: #00af00; text-decoration-color: #00af00\">512</span>)     │         <span style=\"color: #00af00; text-decoration-color: #00af00\">2,048</span> │\n",
       "│ (<span style=\"color: #0087ff; text-decoration-color: #0087ff\">BatchNormalization</span>)            │                        │               │\n",
       "├─────────────────────────────────┼────────────────────────┼───────────────┤\n",
       "│ activation_6 (<span style=\"color: #0087ff; text-decoration-color: #0087ff\">Activation</span>)       │ (<span style=\"color: #00d7ff; text-decoration-color: #00d7ff\">None</span>, <span style=\"color: #00af00; text-decoration-color: #00af00\">4</span>, <span style=\"color: #00af00; text-decoration-color: #00af00\">21</span>, <span style=\"color: #00af00; text-decoration-color: #00af00\">512</span>)     │             <span style=\"color: #00af00; text-decoration-color: #00af00\">0</span> │\n",
       "├─────────────────────────────────┼────────────────────────┼───────────────┤\n",
       "│ max_pooling2d_3 (<span style=\"color: #0087ff; text-decoration-color: #0087ff\">MaxPooling2D</span>)  │ (<span style=\"color: #00d7ff; text-decoration-color: #00d7ff\">None</span>, <span style=\"color: #00af00; text-decoration-color: #00af00\">2</span>, <span style=\"color: #00af00; text-decoration-color: #00af00\">10</span>, <span style=\"color: #00af00; text-decoration-color: #00af00\">512</span>)     │             <span style=\"color: #00af00; text-decoration-color: #00af00\">0</span> │\n",
       "├─────────────────────────────────┼────────────────────────┼───────────────┤\n",
       "│ dropout_7 (<span style=\"color: #0087ff; text-decoration-color: #0087ff\">Dropout</span>)             │ (<span style=\"color: #00d7ff; text-decoration-color: #00d7ff\">None</span>, <span style=\"color: #00af00; text-decoration-color: #00af00\">2</span>, <span style=\"color: #00af00; text-decoration-color: #00af00\">10</span>, <span style=\"color: #00af00; text-decoration-color: #00af00\">512</span>)     │             <span style=\"color: #00af00; text-decoration-color: #00af00\">0</span> │\n",
       "├─────────────────────────────────┼────────────────────────┼───────────────┤\n",
       "│ conv2d_7 (<span style=\"color: #0087ff; text-decoration-color: #0087ff\">Conv2D</span>)               │ (<span style=\"color: #00d7ff; text-decoration-color: #00d7ff\">None</span>, <span style=\"color: #00af00; text-decoration-color: #00af00\">2</span>, <span style=\"color: #00af00; text-decoration-color: #00af00\">10</span>, <span style=\"color: #00af00; text-decoration-color: #00af00\">512</span>)     │     <span style=\"color: #00af00; text-decoration-color: #00af00\">2,359,808</span> │\n",
       "├─────────────────────────────────┼────────────────────────┼───────────────┤\n",
       "│ batch_normalization_7           │ (<span style=\"color: #00d7ff; text-decoration-color: #00d7ff\">None</span>, <span style=\"color: #00af00; text-decoration-color: #00af00\">2</span>, <span style=\"color: #00af00; text-decoration-color: #00af00\">10</span>, <span style=\"color: #00af00; text-decoration-color: #00af00\">512</span>)     │         <span style=\"color: #00af00; text-decoration-color: #00af00\">2,048</span> │\n",
       "│ (<span style=\"color: #0087ff; text-decoration-color: #0087ff\">BatchNormalization</span>)            │                        │               │\n",
       "├─────────────────────────────────┼────────────────────────┼───────────────┤\n",
       "│ activation_7 (<span style=\"color: #0087ff; text-decoration-color: #0087ff\">Activation</span>)       │ (<span style=\"color: #00d7ff; text-decoration-color: #00d7ff\">None</span>, <span style=\"color: #00af00; text-decoration-color: #00af00\">2</span>, <span style=\"color: #00af00; text-decoration-color: #00af00\">10</span>, <span style=\"color: #00af00; text-decoration-color: #00af00\">512</span>)     │             <span style=\"color: #00af00; text-decoration-color: #00af00\">0</span> │\n",
       "├─────────────────────────────────┼────────────────────────┼───────────────┤\n",
       "│ dropout_8 (<span style=\"color: #0087ff; text-decoration-color: #0087ff\">Dropout</span>)             │ (<span style=\"color: #00d7ff; text-decoration-color: #00d7ff\">None</span>, <span style=\"color: #00af00; text-decoration-color: #00af00\">2</span>, <span style=\"color: #00af00; text-decoration-color: #00af00\">10</span>, <span style=\"color: #00af00; text-decoration-color: #00af00\">512</span>)     │             <span style=\"color: #00af00; text-decoration-color: #00af00\">0</span> │\n",
       "├─────────────────────────────────┼────────────────────────┼───────────────┤\n",
       "│ flatten_1 (<span style=\"color: #0087ff; text-decoration-color: #0087ff\">Flatten</span>)             │ (<span style=\"color: #00d7ff; text-decoration-color: #00d7ff\">None</span>, <span style=\"color: #00af00; text-decoration-color: #00af00\">10240</span>)          │             <span style=\"color: #00af00; text-decoration-color: #00af00\">0</span> │\n",
       "├─────────────────────────────────┼────────────────────────┼───────────────┤\n",
       "│ dense_2 (<span style=\"color: #0087ff; text-decoration-color: #0087ff\">Dense</span>)                 │ (<span style=\"color: #00d7ff; text-decoration-color: #00d7ff\">None</span>, <span style=\"color: #00af00; text-decoration-color: #00af00\">256</span>)            │     <span style=\"color: #00af00; text-decoration-color: #00af00\">2,621,696</span> │\n",
       "├─────────────────────────────────┼────────────────────────┼───────────────┤\n",
       "│ dropout_9 (<span style=\"color: #0087ff; text-decoration-color: #0087ff\">Dropout</span>)             │ (<span style=\"color: #00d7ff; text-decoration-color: #00d7ff\">None</span>, <span style=\"color: #00af00; text-decoration-color: #00af00\">256</span>)            │             <span style=\"color: #00af00; text-decoration-color: #00af00\">0</span> │\n",
       "├─────────────────────────────────┼────────────────────────┼───────────────┤\n",
       "│ dense_3 (<span style=\"color: #0087ff; text-decoration-color: #0087ff\">Dense</span>)                 │ (<span style=\"color: #00d7ff; text-decoration-color: #00d7ff\">None</span>, <span style=\"color: #00af00; text-decoration-color: #00af00\">3</span>)              │           <span style=\"color: #00af00; text-decoration-color: #00af00\">771</span> │\n",
       "└─────────────────────────────────┴────────────────────────┴───────────────┘\n",
       "</pre>\n"
      ],
      "text/plain": [
       "┏━━━━━━━━━━━━━━━━━━━━━━━━━━━━━━━━━┳━━━━━━━━━━━━━━━━━━━━━━━━┳━━━━━━━━━━━━━━━┓\n",
       "┃\u001b[1m \u001b[0m\u001b[1mLayer (type)                   \u001b[0m\u001b[1m \u001b[0m┃\u001b[1m \u001b[0m\u001b[1mOutput Shape          \u001b[0m\u001b[1m \u001b[0m┃\u001b[1m \u001b[0m\u001b[1m      Param #\u001b[0m\u001b[1m \u001b[0m┃\n",
       "┡━━━━━━━━━━━━━━━━━━━━━━━━━━━━━━━━━╇━━━━━━━━━━━━━━━━━━━━━━━━╇━━━━━━━━━━━━━━━┩\n",
       "│ conv2d_4 (\u001b[38;5;33mConv2D\u001b[0m)               │ (\u001b[38;5;45mNone\u001b[0m, \u001b[38;5;34m14\u001b[0m, \u001b[38;5;34m64\u001b[0m, \u001b[38;5;34m32\u001b[0m)     │         \u001b[38;5;34m1,152\u001b[0m │\n",
       "├─────────────────────────────────┼────────────────────────┼───────────────┤\n",
       "│ batch_normalization_4           │ (\u001b[38;5;45mNone\u001b[0m, \u001b[38;5;34m14\u001b[0m, \u001b[38;5;34m64\u001b[0m, \u001b[38;5;34m32\u001b[0m)     │           \u001b[38;5;34m128\u001b[0m │\n",
       "│ (\u001b[38;5;33mBatchNormalization\u001b[0m)            │                        │               │\n",
       "├─────────────────────────────────┼────────────────────────┼───────────────┤\n",
       "│ activation_4 (\u001b[38;5;33mActivation\u001b[0m)       │ (\u001b[38;5;45mNone\u001b[0m, \u001b[38;5;34m14\u001b[0m, \u001b[38;5;34m64\u001b[0m, \u001b[38;5;34m32\u001b[0m)     │             \u001b[38;5;34m0\u001b[0m │\n",
       "├─────────────────────────────────┼────────────────────────┼───────────────┤\n",
       "│ max_pooling2d_2 (\u001b[38;5;33mMaxPooling2D\u001b[0m)  │ (\u001b[38;5;45mNone\u001b[0m, \u001b[38;5;34m4\u001b[0m, \u001b[38;5;34m21\u001b[0m, \u001b[38;5;34m32\u001b[0m)      │             \u001b[38;5;34m0\u001b[0m │\n",
       "├─────────────────────────────────┼────────────────────────┼───────────────┤\n",
       "│ dropout_5 (\u001b[38;5;33mDropout\u001b[0m)             │ (\u001b[38;5;45mNone\u001b[0m, \u001b[38;5;34m4\u001b[0m, \u001b[38;5;34m21\u001b[0m, \u001b[38;5;34m32\u001b[0m)      │             \u001b[38;5;34m0\u001b[0m │\n",
       "├─────────────────────────────────┼────────────────────────┼───────────────┤\n",
       "│ conv2d_5 (\u001b[38;5;33mConv2D\u001b[0m)               │ (\u001b[38;5;45mNone\u001b[0m, \u001b[38;5;34m4\u001b[0m, \u001b[38;5;34m21\u001b[0m, \u001b[38;5;34m128\u001b[0m)     │        \u001b[38;5;34m36,992\u001b[0m │\n",
       "├─────────────────────────────────┼────────────────────────┼───────────────┤\n",
       "│ batch_normalization_5           │ (\u001b[38;5;45mNone\u001b[0m, \u001b[38;5;34m4\u001b[0m, \u001b[38;5;34m21\u001b[0m, \u001b[38;5;34m128\u001b[0m)     │           \u001b[38;5;34m512\u001b[0m │\n",
       "│ (\u001b[38;5;33mBatchNormalization\u001b[0m)            │                        │               │\n",
       "├─────────────────────────────────┼────────────────────────┼───────────────┤\n",
       "│ activation_5 (\u001b[38;5;33mActivation\u001b[0m)       │ (\u001b[38;5;45mNone\u001b[0m, \u001b[38;5;34m4\u001b[0m, \u001b[38;5;34m21\u001b[0m, \u001b[38;5;34m128\u001b[0m)     │             \u001b[38;5;34m0\u001b[0m │\n",
       "├─────────────────────────────────┼────────────────────────┼───────────────┤\n",
       "│ dropout_6 (\u001b[38;5;33mDropout\u001b[0m)             │ (\u001b[38;5;45mNone\u001b[0m, \u001b[38;5;34m4\u001b[0m, \u001b[38;5;34m21\u001b[0m, \u001b[38;5;34m128\u001b[0m)     │             \u001b[38;5;34m0\u001b[0m │\n",
       "├─────────────────────────────────┼────────────────────────┼───────────────┤\n",
       "│ conv2d_6 (\u001b[38;5;33mConv2D\u001b[0m)               │ (\u001b[38;5;45mNone\u001b[0m, \u001b[38;5;34m4\u001b[0m, \u001b[38;5;34m21\u001b[0m, \u001b[38;5;34m512\u001b[0m)     │       \u001b[38;5;34m590,336\u001b[0m │\n",
       "├─────────────────────────────────┼────────────────────────┼───────────────┤\n",
       "│ batch_normalization_6           │ (\u001b[38;5;45mNone\u001b[0m, \u001b[38;5;34m4\u001b[0m, \u001b[38;5;34m21\u001b[0m, \u001b[38;5;34m512\u001b[0m)     │         \u001b[38;5;34m2,048\u001b[0m │\n",
       "│ (\u001b[38;5;33mBatchNormalization\u001b[0m)            │                        │               │\n",
       "├─────────────────────────────────┼────────────────────────┼───────────────┤\n",
       "│ activation_6 (\u001b[38;5;33mActivation\u001b[0m)       │ (\u001b[38;5;45mNone\u001b[0m, \u001b[38;5;34m4\u001b[0m, \u001b[38;5;34m21\u001b[0m, \u001b[38;5;34m512\u001b[0m)     │             \u001b[38;5;34m0\u001b[0m │\n",
       "├─────────────────────────────────┼────────────────────────┼───────────────┤\n",
       "│ max_pooling2d_3 (\u001b[38;5;33mMaxPooling2D\u001b[0m)  │ (\u001b[38;5;45mNone\u001b[0m, \u001b[38;5;34m2\u001b[0m, \u001b[38;5;34m10\u001b[0m, \u001b[38;5;34m512\u001b[0m)     │             \u001b[38;5;34m0\u001b[0m │\n",
       "├─────────────────────────────────┼────────────────────────┼───────────────┤\n",
       "│ dropout_7 (\u001b[38;5;33mDropout\u001b[0m)             │ (\u001b[38;5;45mNone\u001b[0m, \u001b[38;5;34m2\u001b[0m, \u001b[38;5;34m10\u001b[0m, \u001b[38;5;34m512\u001b[0m)     │             \u001b[38;5;34m0\u001b[0m │\n",
       "├─────────────────────────────────┼────────────────────────┼───────────────┤\n",
       "│ conv2d_7 (\u001b[38;5;33mConv2D\u001b[0m)               │ (\u001b[38;5;45mNone\u001b[0m, \u001b[38;5;34m2\u001b[0m, \u001b[38;5;34m10\u001b[0m, \u001b[38;5;34m512\u001b[0m)     │     \u001b[38;5;34m2,359,808\u001b[0m │\n",
       "├─────────────────────────────────┼────────────────────────┼───────────────┤\n",
       "│ batch_normalization_7           │ (\u001b[38;5;45mNone\u001b[0m, \u001b[38;5;34m2\u001b[0m, \u001b[38;5;34m10\u001b[0m, \u001b[38;5;34m512\u001b[0m)     │         \u001b[38;5;34m2,048\u001b[0m │\n",
       "│ (\u001b[38;5;33mBatchNormalization\u001b[0m)            │                        │               │\n",
       "├─────────────────────────────────┼────────────────────────┼───────────────┤\n",
       "│ activation_7 (\u001b[38;5;33mActivation\u001b[0m)       │ (\u001b[38;5;45mNone\u001b[0m, \u001b[38;5;34m2\u001b[0m, \u001b[38;5;34m10\u001b[0m, \u001b[38;5;34m512\u001b[0m)     │             \u001b[38;5;34m0\u001b[0m │\n",
       "├─────────────────────────────────┼────────────────────────┼───────────────┤\n",
       "│ dropout_8 (\u001b[38;5;33mDropout\u001b[0m)             │ (\u001b[38;5;45mNone\u001b[0m, \u001b[38;5;34m2\u001b[0m, \u001b[38;5;34m10\u001b[0m, \u001b[38;5;34m512\u001b[0m)     │             \u001b[38;5;34m0\u001b[0m │\n",
       "├─────────────────────────────────┼────────────────────────┼───────────────┤\n",
       "│ flatten_1 (\u001b[38;5;33mFlatten\u001b[0m)             │ (\u001b[38;5;45mNone\u001b[0m, \u001b[38;5;34m10240\u001b[0m)          │             \u001b[38;5;34m0\u001b[0m │\n",
       "├─────────────────────────────────┼────────────────────────┼───────────────┤\n",
       "│ dense_2 (\u001b[38;5;33mDense\u001b[0m)                 │ (\u001b[38;5;45mNone\u001b[0m, \u001b[38;5;34m256\u001b[0m)            │     \u001b[38;5;34m2,621,696\u001b[0m │\n",
       "├─────────────────────────────────┼────────────────────────┼───────────────┤\n",
       "│ dropout_9 (\u001b[38;5;33mDropout\u001b[0m)             │ (\u001b[38;5;45mNone\u001b[0m, \u001b[38;5;34m256\u001b[0m)            │             \u001b[38;5;34m0\u001b[0m │\n",
       "├─────────────────────────────────┼────────────────────────┼───────────────┤\n",
       "│ dense_3 (\u001b[38;5;33mDense\u001b[0m)                 │ (\u001b[38;5;45mNone\u001b[0m, \u001b[38;5;34m3\u001b[0m)              │           \u001b[38;5;34m771\u001b[0m │\n",
       "└─────────────────────────────────┴────────────────────────┴───────────────┘\n"
      ]
     },
     "metadata": {},
     "output_type": "display_data"
    },
    {
     "data": {
      "text/html": [
       "<pre style=\"white-space:pre;overflow-x:auto;line-height:normal;font-family:Menlo,'DejaVu Sans Mono',consolas,'Courier New',monospace\"><span style=\"font-weight: bold\"> Total params: </span><span style=\"color: #00af00; text-decoration-color: #00af00\">5,615,491</span> (21.42 MB)\n",
       "</pre>\n"
      ],
      "text/plain": [
       "\u001b[1m Total params: \u001b[0m\u001b[38;5;34m5,615,491\u001b[0m (21.42 MB)\n"
      ]
     },
     "metadata": {},
     "output_type": "display_data"
    },
    {
     "data": {
      "text/html": [
       "<pre style=\"white-space:pre;overflow-x:auto;line-height:normal;font-family:Menlo,'DejaVu Sans Mono',consolas,'Courier New',monospace\"><span style=\"font-weight: bold\"> Trainable params: </span><span style=\"color: #00af00; text-decoration-color: #00af00\">5,613,123</span> (21.41 MB)\n",
       "</pre>\n"
      ],
      "text/plain": [
       "\u001b[1m Trainable params: \u001b[0m\u001b[38;5;34m5,613,123\u001b[0m (21.41 MB)\n"
      ]
     },
     "metadata": {},
     "output_type": "display_data"
    },
    {
     "data": {
      "text/html": [
       "<pre style=\"white-space:pre;overflow-x:auto;line-height:normal;font-family:Menlo,'DejaVu Sans Mono',consolas,'Courier New',monospace\"><span style=\"font-weight: bold\"> Non-trainable params: </span><span style=\"color: #00af00; text-decoration-color: #00af00\">2,368</span> (9.25 KB)\n",
       "</pre>\n"
      ],
      "text/plain": [
       "\u001b[1m Non-trainable params: \u001b[0m\u001b[38;5;34m2,368\u001b[0m (9.25 KB)\n"
      ]
     },
     "metadata": {},
     "output_type": "display_data"
    }
   ],
   "source": [
    "model.summary()"
   ]
  },
  {
   "cell_type": "markdown",
   "metadata": {},
   "source": [
    "#Since I couldn't fix the snippet below. Even after trying different things. I'll stop Snoring."
   ]
  },
  {
   "cell_type": "code",
   "execution_count": 23,
   "metadata": {
    "_kg_hide-output": true,
    "execution": {
     "iopub.execute_input": "2023-08-21T22:15:56.053638Z",
     "iopub.status.busy": "2023-08-21T22:15:56.053169Z",
     "iopub.status.idle": "2023-08-21T22:15:56.697095Z",
     "shell.execute_reply": "2023-08-21T22:15:56.695339Z",
     "shell.execute_reply.started": "2023-08-21T22:15:56.053603Z"
    },
    "trusted": true
   },
   "outputs": [
    {
     "name": "stdout",
     "output_type": "stream",
     "text": [
      "Epoch 1/5\n",
      "\u001b[1m37/38\u001b[0m \u001b[32m━━━━━━━━━━━━━━━━━━━\u001b[0m\u001b[37m━\u001b[0m \u001b[1m0s\u001b[0m 82ms/step - accuracy: 0.5237 - loss: 3.1385 - precision: 0.5267 - recall: 0.4979\n",
      "Epoch 1: val_loss improved from inf to 1.15579, saving model to models/model_snoring_and_breathing_28_128.keras\n",
      "\u001b[1m38/38\u001b[0m \u001b[32m━━━━━━━━━━━━━━━━━━━━\u001b[0m\u001b[37m\u001b[0m \u001b[1m5s\u001b[0m 93ms/step - accuracy: 0.5263 - loss: 3.0603 - precision: 0.5294 - recall: 0.5007 - val_accuracy: 0.4981 - val_loss: 1.1558 - val_precision: 0.5087 - val_recall: 0.4415 - learning_rate: 0.0010\n",
      "Epoch 2/5\n",
      "\u001b[1m37/38\u001b[0m \u001b[32m━━━━━━━━━━━━━━━━━━━\u001b[0m\u001b[37m━\u001b[0m \u001b[1m0s\u001b[0m 81ms/step - accuracy: 0.6859 - loss: 0.6107 - precision: 0.6952 - recall: 0.6718\n",
      "Epoch 2: val_loss improved from 1.15579 to 0.67408, saving model to models/model_snoring_and_breathing_28_128.keras\n",
      "\u001b[1m38/38\u001b[0m \u001b[32m━━━━━━━━━━━━━━━━━━━━\u001b[0m\u001b[37m\u001b[0m \u001b[1m3s\u001b[0m 88ms/step - accuracy: 0.6882 - loss: 0.6075 - precision: 0.6975 - recall: 0.6741 - val_accuracy: 0.7321 - val_loss: 0.6741 - val_precision: 0.7479 - val_recall: 0.6717 - learning_rate: 0.0010\n",
      "Epoch 3/5\n",
      "\u001b[1m37/38\u001b[0m \u001b[32m━━━━━━━━━━━━━━━━━━━\u001b[0m\u001b[37m━\u001b[0m \u001b[1m0s\u001b[0m 80ms/step - accuracy: 0.8752 - loss: 0.3499 - precision: 0.8793 - recall: 0.8707\n",
      "Epoch 3: val_loss improved from 0.67408 to 0.20846, saving model to models/model_snoring_and_breathing_28_128.keras\n",
      "\u001b[1m38/38\u001b[0m \u001b[32m━━━━━━━━━━━━━━━━━━━━\u001b[0m\u001b[37m\u001b[0m \u001b[1m3s\u001b[0m 88ms/step - accuracy: 0.8764 - loss: 0.3465 - precision: 0.8806 - recall: 0.8720 - val_accuracy: 0.9283 - val_loss: 0.2085 - val_precision: 0.9385 - val_recall: 0.9208 - learning_rate: 0.0010\n",
      "Epoch 4/5\n",
      "\u001b[1m37/38\u001b[0m \u001b[32m━━━━━━━━━━━━━━━━━━━\u001b[0m\u001b[37m━\u001b[0m \u001b[1m0s\u001b[0m 82ms/step - accuracy: 0.9443 - loss: 0.1595 - precision: 0.9451 - recall: 0.9401\n",
      "Epoch 4: val_loss improved from 0.20846 to 0.15026, saving model to models/model_snoring_and_breathing_28_128.keras\n",
      "\u001b[1m38/38\u001b[0m \u001b[32m━━━━━━━━━━━━━━━━━━━━\u001b[0m\u001b[37m\u001b[0m \u001b[1m3s\u001b[0m 89ms/step - accuracy: 0.9445 - loss: 0.1590 - precision: 0.9454 - recall: 0.9404 - val_accuracy: 0.9472 - val_loss: 0.1503 - val_precision: 0.9472 - val_recall: 0.9472 - learning_rate: 0.0010\n",
      "Epoch 5/5\n",
      "\u001b[1m37/38\u001b[0m \u001b[32m━━━━━━━━━━━━━━━━━━━\u001b[0m\u001b[37m━\u001b[0m \u001b[1m0s\u001b[0m 81ms/step - accuracy: 0.9538 - loss: 0.1360 - precision: 0.9550 - recall: 0.9527\n",
      "Epoch 5: val_loss did not improve from 0.15026\n",
      "\u001b[1m38/38\u001b[0m \u001b[32m━━━━━━━━━━━━━━━━━━━━\u001b[0m\u001b[37m\u001b[0m \u001b[1m3s\u001b[0m 82ms/step - accuracy: 0.9538 - loss: 0.1363 - precision: 0.9551 - recall: 0.9526 - val_accuracy: 0.9434 - val_loss: 0.1628 - val_precision: 0.9432 - val_recall: 0.9396 - learning_rate: 0.0010\n"
     ]
    }
   ],
   "source": [
    "history = model.fit(\n",
    "    x=X_train,\n",
    "    y=y_train,\n",
    "    validation_split=0.1,\n",
    "    epochs=5, \n",
    "    batch_size=64,\n",
    "    callbacks=[earlystopper, checkpoint, reduceLROnPlat, tb_callback]\n",
    ")"
   ]
  },
  {
   "cell_type": "code",
   "execution_count": 26,
   "metadata": {},
   "outputs": [],
   "source": [
    "MODEL_PATH = r'models/model_snoring_and_breathing_10e_28_128_2.keras'"
   ]
  },
  {
   "cell_type": "code",
   "execution_count": 27,
   "metadata": {},
   "outputs": [],
   "source": [
    "model.save(MODEL_PATH)"
   ]
  },
  {
   "cell_type": "code",
   "execution_count": 49,
   "metadata": {},
   "outputs": [],
   "source": [
    "from tensorflow.keras.models import load_model\n",
    "\n",
    "model = load_model(MODEL_PATH)"
   ]
  },
  {
   "cell_type": "code",
   "execution_count": 24,
   "metadata": {},
   "outputs": [
    {
     "name": "stdout",
     "output_type": "stream",
     "text": [
      "\u001b[1m5/5\u001b[0m \u001b[32m━━━━━━━━━━━━━━━━━━━━\u001b[0m\u001b[37m\u001b[0m \u001b[1m0s\u001b[0m 16ms/step - accuracy: 0.9185 - loss: 0.2056 - precision: 0.9246 - recall: 0.9185\n",
      "Test Loss: 0.16422605514526367\n",
      "Test Accuracy: 0.9254237413406372\n",
      "Test precision: 0.9317406415939331\n",
      "Test recall: 0.9254237413406372\n"
     ]
    }
   ],
   "source": [
    "# Оценка модели на тестовом наборе данных\n",
    "test_loss, test_accuracy, pr, rc = model.evaluate(X_test, y_test, batch_size=64)\n",
    "\n",
    "print(f\"Test Loss: {test_loss}\")\n",
    "print(f\"Test Accuracy: {test_accuracy}\")\n",
    "print(f\"Test precision: {pr}\")\n",
    "print(f\"Test recall: {rc}\")"
   ]
  },
  {
   "cell_type": "code",
   "execution_count": 51,
   "metadata": {},
   "outputs": [],
   "source": [
    "def preprocess_audio(file_path):\n",
    "    # Загрузка аудиофайла\n",
    "    wave, sr = librosa.load(file_path, sr=SAMPLING_RATE)\n",
    "    \n",
    "    # Проверка длины\n",
    "    if len(wave) == 0:\n",
    "        raise ValueError(\"Аудиофайл пуст.\")\n",
    "    \n",
    "    # Преобразование в MFCC\n",
    "    mfcc = wav2mfcc(wave)\n",
    "    \n",
    "    # Добавление измерения для batch_size\n",
    "    return np.expand_dims(mfcc, axis=0)  # Форма: (1, MFCC_NUM, MFCC_MAX_LEN)\n"
   ]
  },
  {
   "cell_type": "code",
   "execution_count": 52,
   "metadata": {},
   "outputs": [],
   "source": [
    "def predict_from_file(file_path):\n",
    "    # Предобработка аудиофайла\n",
    "    input_data = preprocess_audio(file_path)\n",
    "    \n",
    "    # Предсказание\n",
    "    prediction = model.predict(input_data)\n",
    "    \n",
    "    # Возвращаем результат\n",
    "    return prediction\n"
   ]
  },
  {
   "cell_type": "code",
   "execution_count": 60,
   "metadata": {},
   "outputs": [
    {
     "name": "stdout",
     "output_type": "stream",
     "text": [
      "1/1 [==============================] - 0s 36ms/step\n",
      "Результат предсказания: [[1.5301550e-08 2.3878022e-10 1.0000000e+00]]\n",
      "Предсказанный класс: 2\n",
      "1/1 [==============================] - 0s 30ms/step\n",
      "Результат предсказания: [[6.0790200e-08 5.2845217e-10 9.9999988e-01]]\n",
      "Предсказанный класс: 2\n",
      "1/1 [==============================] - 0s 34ms/step\n",
      "Результат предсказания: [[1.7463186e-16 4.5565589e-14 1.0000000e+00]]\n",
      "Предсказанный класс: 2\n",
      "1/1 [==============================] - 0s 31ms/step\n",
      "Результат предсказания: [[1.4939724e-07 1.5209879e-07 9.9999964e-01]]\n",
      "Предсказанный класс: 2\n",
      "1/1 [==============================] - 0s 35ms/step\n",
      "Результат предсказания: [[1.0740091e-10 3.0677201e-09 1.0000000e+00]]\n",
      "Предсказанный класс: 2\n",
      "1/1 [==============================] - 0s 32ms/step\n",
      "Результат предсказания: [[5.3105582e-11 2.6111491e-09 1.0000000e+00]]\n",
      "Предсказанный класс: 2\n",
      "1/1 [==============================] - 0s 34ms/step\n",
      "Результат предсказания: [[2.5323031e-08 4.8272714e-06 9.9999511e-01]]\n",
      "Предсказанный класс: 2\n",
      "1/1 [==============================] - 0s 34ms/step\n",
      "Результат предсказания: [[7.74205179e-12 1.08414284e-11 1.00000000e+00]]\n",
      "Предсказанный класс: 2\n",
      "1/1 [==============================] - 0s 34ms/step\n",
      "Результат предсказания: [[3.5321852e-12 2.4385949e-08 1.0000000e+00]]\n",
      "Предсказанный класс: 2\n",
      "1/1 [==============================] - 0s 34ms/step\n",
      "Результат предсказания: [[1.2990807e-11 9.1072729e-07 9.9999905e-01]]\n",
      "Предсказанный класс: 2\n",
      "1/1 [==============================] - 0s 35ms/step\n",
      "Результат предсказания: [[7.2546374e-13 2.4439459e-11 1.0000000e+00]]\n",
      "Предсказанный класс: 2\n",
      "1/1 [==============================] - 0s 33ms/step\n",
      "Результат предсказания: [[4.8342047e-10 4.2956318e-03 9.9570435e-01]]\n",
      "Предсказанный класс: 2\n",
      "1/1 [==============================] - 0s 34ms/step\n",
      "Результат предсказания: [[1.9282585e-05 5.7186512e-06 9.9997497e-01]]\n",
      "Предсказанный класс: 2\n",
      "1/1 [==============================] - 0s 33ms/step\n",
      "Результат предсказания: [[5.3725595e-16 6.2879850e-14 1.0000000e+00]]\n",
      "Предсказанный класс: 2\n",
      "1/1 [==============================] - 0s 34ms/step\n",
      "Результат предсказания: [[1.8651318e-10 1.8343393e-10 1.0000000e+00]]\n",
      "Предсказанный класс: 2\n",
      "1/1 [==============================] - 0s 35ms/step\n",
      "Результат предсказания: [[5.6440822e-08 1.1576974e-07 9.9999988e-01]]\n",
      "Предсказанный класс: 2\n",
      "1/1 [==============================] - 0s 35ms/step\n",
      "Результат предсказания: [[6.0192541e-08 2.1694758e-07 9.9999976e-01]]\n",
      "Предсказанный класс: 2\n",
      "1/1 [==============================] - 0s 35ms/step\n",
      "Результат предсказания: [[1.04731905e-16 3.31841352e-13 1.00000000e+00]]\n",
      "Предсказанный класс: 2\n",
      "1/1 [==============================] - 0s 34ms/step\n",
      "Результат предсказания: [[1.2256360e-09 1.5787093e-08 1.0000000e+00]]\n",
      "Предсказанный класс: 2\n",
      "1/1 [==============================] - 0s 44ms/step\n",
      "Результат предсказания: [[8.2481311e-05 1.5448487e-01 8.4543270e-01]]\n",
      "Предсказанный класс: 2\n",
      "1/1 [==============================] - 0s 35ms/step\n",
      "Результат предсказания: [[1.0657684e-11 1.1851209e-09 1.0000000e+00]]\n",
      "Предсказанный класс: 2\n",
      "1/1 [==============================] - 0s 35ms/step\n",
      "Результат предсказания: [[2.216127e-15 6.496711e-11 1.000000e+00]]\n",
      "Предсказанный класс: 2\n",
      "1/1 [==============================] - 0s 34ms/step\n",
      "Результат предсказания: [[6.6408384e-16 1.0673388e-05 9.9998927e-01]]\n",
      "Предсказанный класс: 2\n",
      "1/1 [==============================] - 0s 34ms/step\n",
      "Результат предсказания: [[7.5074740e-06 1.6932882e-02 9.8305964e-01]]\n",
      "Предсказанный класс: 2\n",
      "1/1 [==============================] - 0s 34ms/step\n",
      "Результат предсказания: [[7.5270643e-15 1.5158598e-12 1.0000000e+00]]\n",
      "Предсказанный класс: 2\n",
      "1/1 [==============================] - 0s 33ms/step\n",
      "Результат предсказания: [[1.5333745e-08 5.7213012e-05 9.9994278e-01]]\n",
      "Предсказанный класс: 2\n",
      "1/1 [==============================] - 0s 33ms/step\n",
      "Результат предсказания: [[5.8960817e-13 5.0205249e-06 9.9999499e-01]]\n",
      "Предсказанный класс: 2\n",
      "1/1 [==============================] - 0s 34ms/step\n",
      "Результат предсказания: [[2.8501602e-14 3.3373176e-12 1.0000000e+00]]\n",
      "Предсказанный класс: 2\n",
      "1/1 [==============================] - 0s 34ms/step\n",
      "Результат предсказания: [[8.607565e-11 2.932095e-09 1.000000e+00]]\n",
      "Предсказанный класс: 2\n",
      "1/1 [==============================] - 0s 33ms/step\n",
      "Результат предсказания: [[5.3380470e-17 1.0731634e-06 9.9999893e-01]]\n",
      "Предсказанный класс: 2\n",
      "1/1 [==============================] - 0s 31ms/step\n",
      "Результат предсказания: [[2.4230623e-08 6.8836744e-05 9.9993110e-01]]\n",
      "Предсказанный класс: 2\n",
      "1/1 [==============================] - 0s 38ms/step\n",
      "Результат предсказания: [[8.3157673e-08 3.5932154e-04 9.9964058e-01]]\n",
      "Предсказанный класс: 2\n",
      "1/1 [==============================] - 0s 33ms/step\n",
      "Результат предсказания: [[2.3510538e-12 5.7905222e-06 9.9999416e-01]]\n",
      "Предсказанный класс: 2\n",
      "1/1 [==============================] - 0s 34ms/step\n",
      "Результат предсказания: [[6.3918892e-09 3.1826746e-06 9.9999678e-01]]\n",
      "Предсказанный класс: 2\n",
      "1/1 [==============================] - 0s 33ms/step\n",
      "Результат предсказания: [[3.9233924e-13 1.8179195e-05 9.9998176e-01]]\n",
      "Предсказанный класс: 2\n",
      "1/1 [==============================] - 0s 32ms/step\n",
      "Результат предсказания: [[3.7599932e-15 8.7943047e-12 1.0000000e+00]]\n",
      "Предсказанный класс: 2\n",
      "1/1 [==============================] - 0s 32ms/step\n",
      "Результат предсказания: [[5.255636e-13 1.127379e-05 9.999887e-01]]\n",
      "Предсказанный класс: 2\n",
      "1/1 [==============================] - 0s 33ms/step\n",
      "Результат предсказания: [[2.2003063e-12 6.4656177e-08 9.9999988e-01]]\n",
      "Предсказанный класс: 2\n",
      "1/1 [==============================] - 0s 33ms/step\n",
      "Результат предсказания: [[1.7040245e-16 4.6701318e-15 1.0000000e+00]]\n",
      "Предсказанный класс: 2\n",
      "1/1 [==============================] - 0s 34ms/step\n",
      "Результат предсказания: [[3.0980871e-07 4.8442871e-08 9.9999964e-01]]\n",
      "Предсказанный класс: 2\n",
      "1/1 [==============================] - 0s 35ms/step\n",
      "Результат предсказания: [[8.9547030e-11 1.3096287e-10 1.0000000e+00]]\n",
      "Предсказанный класс: 2\n",
      "1/1 [==============================] - 0s 31ms/step\n",
      "Результат предсказания: [[2.9922470e-13 2.2538488e-11 1.0000000e+00]]\n",
      "Предсказанный класс: 2\n",
      "1/1 [==============================] - 0s 30ms/step\n",
      "Результат предсказания: [[2.219816e-06 4.084181e-07 9.999974e-01]]\n",
      "Предсказанный класс: 2\n",
      "1/1 [==============================] - 0s 30ms/step\n",
      "Результат предсказания: [[5.5424579e-07 4.0610457e-06 9.9999535e-01]]\n",
      "Предсказанный класс: 2\n",
      "1/1 [==============================] - 0s 31ms/step\n",
      "Результат предсказания: [[5.3767553e-06 2.9901928e-06 9.9999166e-01]]\n",
      "Предсказанный класс: 2\n",
      "1/1 [==============================] - 0s 32ms/step\n",
      "Результат предсказания: [[2.8453055e-06 2.7288452e-06 9.9999440e-01]]\n",
      "Предсказанный класс: 2\n",
      "1/1 [==============================] - 0s 33ms/step\n",
      "Результат предсказания: [[6.158542e-16 9.255402e-13 1.000000e+00]]\n",
      "Предсказанный класс: 2\n",
      "1/1 [==============================] - 0s 33ms/step\n",
      "Результат предсказания: [[7.9481364e-14 9.4624718e-11 1.0000000e+00]]\n",
      "Предсказанный класс: 2\n",
      "1/1 [==============================] - 0s 32ms/step\n",
      "Результат предсказания: [[2.5880158e-06 1.9964375e-06 9.9999547e-01]]\n",
      "Предсказанный класс: 2\n",
      "1/1 [==============================] - 0s 30ms/step\n",
      "Результат предсказания: [[1.6627852e-10 4.8480420e-08 1.0000000e+00]]\n",
      "Предсказанный класс: 2\n",
      "1/1 [==============================] - 0s 33ms/step\n",
      "Результат предсказания: [[3.3285412e-06 3.7448749e-06 9.9999297e-01]]\n",
      "Предсказанный класс: 2\n",
      "1/1 [==============================] - 0s 31ms/step\n",
      "Результат предсказания: [[1.0253770e-05 8.5389665e-06 9.9998116e-01]]\n",
      "Предсказанный класс: 2\n",
      "1/1 [==============================] - 0s 30ms/step\n",
      "Результат предсказания: [[9.4359478e-07 4.8311961e-07 9.9999857e-01]]\n",
      "Предсказанный класс: 2\n",
      "1/1 [==============================] - 0s 30ms/step\n",
      "Результат предсказания: [[7.0410051e-09 1.3571058e-09 1.0000000e+00]]\n",
      "Предсказанный класс: 2\n",
      "1/1 [==============================] - 0s 31ms/step\n",
      "Результат предсказания: [[1.36879215e-11 2.77789347e-10 1.00000000e+00]]\n",
      "Предсказанный класс: 2\n",
      "1/1 [==============================] - 0s 33ms/step\n",
      "Результат предсказания: [[2.0720119e-10 3.0537953e-10 1.0000000e+00]]\n",
      "Предсказанный класс: 2\n",
      "1/1 [==============================] - 0s 31ms/step\n",
      "Результат предсказания: [[7.9244746e-06 1.5625325e-07 9.9999189e-01]]\n",
      "Предсказанный класс: 2\n",
      "1/1 [==============================] - 0s 34ms/step\n",
      "Результат предсказания: [[7.9060734e-14 5.4776361e-12 1.0000000e+00]]\n",
      "Предсказанный класс: 2\n",
      "1/1 [==============================] - 0s 30ms/step\n",
      "Результат предсказания: [[7.603183e-10 4.661105e-09 1.000000e+00]]\n",
      "Предсказанный класс: 2\n",
      "1/1 [==============================] - 0s 32ms/step\n",
      "Результат предсказания: [[2.2892445e-12 9.4791813e-11 1.0000000e+00]]\n",
      "Предсказанный класс: 2\n",
      "1/1 [==============================] - 0s 31ms/step\n",
      "Результат предсказания: [[4.2579295e-13 3.3910419e-09 1.0000000e+00]]\n",
      "Предсказанный класс: 2\n",
      "1/1 [==============================] - 0s 29ms/step\n",
      "Результат предсказания: [[7.2947820e-12 4.0616258e-10 1.0000000e+00]]\n",
      "Предсказанный класс: 2\n",
      "1/1 [==============================] - 0s 33ms/step\n",
      "Результат предсказания: [[1.9268497e-10 2.0756639e-09 1.0000000e+00]]\n",
      "Предсказанный класс: 2\n",
      "1/1 [==============================] - 0s 32ms/step\n",
      "Результат предсказания: [[1.4336292e-10 1.9887187e-11 1.0000000e+00]]\n",
      "Предсказанный класс: 2\n",
      "1/1 [==============================] - 0s 31ms/step\n",
      "Результат предсказания: [[4.9200166e-10 1.5137674e-09 1.0000000e+00]]\n",
      "Предсказанный класс: 2\n",
      "1/1 [==============================] - 0s 33ms/step\n",
      "Результат предсказания: [[3.450729e-13 8.921608e-12 1.000000e+00]]\n",
      "Предсказанный класс: 2\n",
      "1/1 [==============================] - 0s 32ms/step\n",
      "Результат предсказания: [[1.0243483e-09 1.1804960e-09 1.0000000e+00]]\n",
      "Предсказанный класс: 2\n",
      "1/1 [==============================] - 0s 32ms/step\n",
      "Результат предсказания: [[2.8884861e-10 5.6023874e-10 1.0000000e+00]]\n",
      "Предсказанный класс: 2\n",
      "1/1 [==============================] - 0s 31ms/step\n",
      "Результат предсказания: [[5.2695737e-10 3.7434555e-07 9.9999964e-01]]\n",
      "Предсказанный класс: 2\n",
      "1/1 [==============================] - 0s 58ms/step\n",
      "Результат предсказания: [[2.3768743e-10 1.2831840e-10 1.0000000e+00]]\n",
      "Предсказанный класс: 2\n",
      "1/1 [==============================] - 0s 34ms/step\n",
      "Результат предсказания: [[7.2395437e-08 2.5210556e-05 9.9997473e-01]]\n",
      "Предсказанный класс: 2\n",
      "1/1 [==============================] - 0s 30ms/step\n",
      "Результат предсказания: [[1.7670303e-10 3.5127118e-10 1.0000000e+00]]\n",
      "Предсказанный класс: 2\n",
      "1/1 [==============================] - 0s 33ms/step\n",
      "Результат предсказания: [[1.55963e-11 2.18574e-10 1.00000e+00]]\n",
      "Предсказанный класс: 2\n",
      "1/1 [==============================] - 0s 36ms/step\n",
      "Результат предсказания: [[1.8268929e-05 2.0601962e-02 9.7937977e-01]]\n",
      "Предсказанный класс: 2\n",
      "1/1 [==============================] - 0s 34ms/step\n",
      "Результат предсказания: [[3.1709686e-08 5.7924440e-06 9.9999416e-01]]\n",
      "Предсказанный класс: 2\n",
      "1/1 [==============================] - 0s 33ms/step\n",
      "Результат предсказания: [[8.624120e-06 8.405159e-03 9.915862e-01]]\n",
      "Предсказанный класс: 2\n",
      "1/1 [==============================] - 0s 35ms/step\n",
      "Результат предсказания: [[0.00315599 0.01106779 0.98577625]]\n",
      "Предсказанный класс: 2\n",
      "1/1 [==============================] - 0s 33ms/step\n",
      "Результат предсказания: [[2.2261082e-10 2.5471493e-06 9.9999750e-01]]\n",
      "Предсказанный класс: 2\n",
      "1/1 [==============================] - 0s 32ms/step\n",
      "Результат предсказания: [[9.675133e-13 7.495161e-11 1.000000e+00]]\n",
      "Предсказанный класс: 2\n",
      "1/1 [==============================] - 0s 34ms/step\n",
      "Результат предсказания: [[3.7090453e-10 2.5517192e-08 1.0000000e+00]]\n",
      "Предсказанный класс: 2\n",
      "1/1 [==============================] - 0s 33ms/step\n",
      "Результат предсказания: [[5.3259866e-12 1.3713743e-06 9.9999857e-01]]\n",
      "Предсказанный класс: 2\n",
      "1/1 [==============================] - 0s 33ms/step\n",
      "Результат предсказания: [[1.4848255e-09 2.0263247e-09 1.0000000e+00]]\n",
      "Предсказанный класс: 2\n",
      "1/1 [==============================] - 0s 31ms/step\n",
      "Результат предсказания: [[4.7487392e-10 2.1591642e-09 1.0000000e+00]]\n",
      "Предсказанный класс: 2\n",
      "1/1 [==============================] - 0s 38ms/step\n",
      "Результат предсказания: [[1.68840816e-05 1.02682414e-07 9.99983072e-01]]\n",
      "Предсказанный класс: 2\n",
      "1/1 [==============================] - 0s 33ms/step\n",
      "Результат предсказания: [[4.9985367e-05 1.0850701e-04 9.9984145e-01]]\n",
      "Предсказанный класс: 2\n",
      "1/1 [==============================] - 0s 31ms/step\n",
      "Результат предсказания: [[3.0473337e-12 1.5128928e-09 1.0000000e+00]]\n",
      "Предсказанный класс: 2\n",
      "1/1 [==============================] - 0s 34ms/step\n",
      "Результат предсказания: [[5.3662410e-07 1.2028209e-04 9.9987912e-01]]\n",
      "Предсказанный класс: 2\n",
      "1/1 [==============================] - 0s 35ms/step\n",
      "Результат предсказания: [[2.2433689e-08 6.0189393e-07 9.9999940e-01]]\n",
      "Предсказанный класс: 2\n",
      "1/1 [==============================] - 0s 33ms/step\n",
      "Результат предсказания: [[2.6504732e-13 1.4792665e-11 1.0000000e+00]]\n",
      "Предсказанный класс: 2\n",
      "1/1 [==============================] - 0s 34ms/step\n",
      "Результат предсказания: [[4.7049524e-09 1.8969233e-09 1.0000000e+00]]\n",
      "Предсказанный класс: 2\n",
      "1/1 [==============================] - 0s 32ms/step\n",
      "Результат предсказания: [[1.96432766e-11 1.11676716e-10 1.00000000e+00]]\n",
      "Предсказанный класс: 2\n",
      "1/1 [==============================] - 0s 32ms/step\n",
      "Результат предсказания: [[1.13054924e-07 1.13969662e-07 9.99999762e-01]]\n",
      "Предсказанный класс: 2\n",
      "1/1 [==============================] - 0s 31ms/step\n",
      "Результат предсказания: [[1.1525612e-08 4.5810513e-08 1.0000000e+00]]\n",
      "Предсказанный класс: 2\n",
      "1/1 [==============================] - 0s 32ms/step\n",
      "Результат предсказания: [[1.3324681e-05 1.6709961e-05 9.9996996e-01]]\n",
      "Предсказанный класс: 2\n",
      "1/1 [==============================] - 0s 31ms/step\n",
      "Результат предсказания: [[1.5962435e-07 2.1722672e-06 9.9999762e-01]]\n",
      "Предсказанный класс: 2\n",
      "1/1 [==============================] - 0s 32ms/step\n",
      "Результат предсказания: [[1.6152146e-07 4.1595222e-03 9.9584031e-01]]\n",
      "Предсказанный класс: 2\n",
      "1/1 [==============================] - 0s 31ms/step\n",
      "Результат предсказания: [[5.8505124e-11 2.6921185e-10 1.0000000e+00]]\n",
      "Предсказанный класс: 2\n",
      "1/1 [==============================] - 0s 33ms/step\n",
      "Результат предсказания: [[1.269681e-15 8.375646e-11 1.000000e+00]]\n",
      "Предсказанный класс: 2\n",
      "1/1 [==============================] - 0s 32ms/step\n",
      "Результат предсказания: [[7.751175e-14 8.467246e-12 1.000000e+00]]\n",
      "Предсказанный класс: 2\n",
      "1/1 [==============================] - 0s 32ms/step\n",
      "Результат предсказания: [[5.9508783e-15 6.0851137e-11 1.0000000e+00]]\n",
      "Предсказанный класс: 2\n"
     ]
    }
   ],
   "source": [
    "for i in range(100):\n",
    "    file_path = f\"D:\\python\\safevision\\SafeVision/breath detection\\Breath_and_snoring_Dataset/2/2_{i}.wav\"\n",
    "\n",
    "    prediction = predict_from_file(file_path)\n",
    "    print(\"Результат предсказания:\", prediction)\n",
    "\n",
    "    predicted_class = np.argmax(prediction)\n",
    "    print(\"Предсказанный класс:\", predicted_class)"
   ]
  },
  {
   "cell_type": "code",
   "execution_count": 61,
   "metadata": {},
   "outputs": [],
   "source": [
    "SAMPLING_RATE = 44100  # Частота дискретизации\n",
    "MFCC_NUM = 14\n",
    "MFCC_MAX_LEN = 128\n",
    "\n",
    "def split_audio(file_path, duration=1.0):\n",
    "\n",
    "    wave, sr = librosa.load(file_path, sr=SAMPLING_RATE)\n",
    "    \n",
    "    segment_length = int(sr * duration)\n",
    "    \n",
    "    segments = [\n",
    "        wave[i:i + segment_length]\n",
    "        for i in range(0, len(wave), segment_length)\n",
    "        if len(wave[i:i + segment_length]) == segment_length  # Пропускаем последние неполные сегменты\n",
    "    ]\n",
    "    \n",
    "    return segments"
   ]
  },
  {
   "cell_type": "code",
   "execution_count": 62,
   "metadata": {},
   "outputs": [],
   "source": [
    "SAMPLING_RATE = 44100  # Частота дискретизации\n",
    "MFCC_NUM = 14\n",
    "MFCC_MAX_LEN = 128\n",
    "\n",
    "def split_audio(file_path, duration=1.0, overlap=0.5):\n",
    "    wave, sr = librosa.load(file_path, sr=SAMPLING_RATE)\n",
    "    segment_length = int(sr * duration)\n",
    "    step = int(sr * (duration - overlap))\n",
    "    segments = [\n",
    "        wave[i:i + segment_length]\n",
    "        for i in range(0, len(wave) - segment_length + 1, step)\n",
    "    ]\n",
    "    return segments\n"
   ]
  },
  {
   "cell_type": "code",
   "execution_count": 63,
   "metadata": {},
   "outputs": [],
   "source": [
    "def predict_for_segments(segments, model):\n",
    "    predictions = []\n",
    "    for i, segment in enumerate(segments):\n",
    "        mfcc = wav2mfcc(segment)\n",
    "        \n",
    "        input_data = np.expand_dims(mfcc, axis=0)\n",
    "\n",
    "        prediction = model.predict(input_data)\n",
    "        predictions.append(prediction)\n",
    "    \n",
    "    return predictions"
   ]
  },
  {
   "cell_type": "code",
   "execution_count": 67,
   "metadata": {},
   "outputs": [
    {
     "name": "stdout",
     "output_type": "stream",
     "text": [
      "1/1 [==============================] - 0s 42ms/step\n",
      "1/1 [==============================] - 0s 41ms/step\n",
      "1/1 [==============================] - 0s 42ms/step\n",
      "1/1 [==============================] - 0s 44ms/step\n",
      "1/1 [==============================] - 0s 43ms/step\n",
      "1/1 [==============================] - 0s 44ms/step\n",
      "1/1 [==============================] - 0s 41ms/step\n",
      "1/1 [==============================] - 0s 42ms/step\n",
      "1/1 [==============================] - 0s 43ms/step\n",
      "1/1 [==============================] - 0s 52ms/step\n",
      "1/1 [==============================] - 0s 45ms/step\n",
      "1/1 [==============================] - 0s 43ms/step\n",
      "1/1 [==============================] - 0s 42ms/step\n",
      "1/1 [==============================] - 0s 38ms/step\n",
      "1/1 [==============================] - 0s 32ms/step\n",
      "1/1 [==============================] - 0s 32ms/step\n",
      "1/1 [==============================] - 0s 31ms/step\n",
      "Сегмент 1: класс 2, вероятности [0.00267638 0.00343929 0.99388427]\n",
      "Сегмент 2: класс 1, вероятности [0.18968283 0.6701548  0.14016238]\n",
      "Сегмент 3: класс 1, вероятности [1.7019832e-07 9.9998701e-01 1.2923519e-05]\n",
      "Сегмент 4: класс 1, вероятности [1.6708505e-04 8.3018148e-01 1.6965142e-01]\n",
      "Сегмент 5: класс 1, вероятности [5.7119828e-06 9.9675924e-01 3.2351161e-03]\n",
      "Сегмент 6: класс 1, вероятности [0.3513791  0.62952876 0.01909218]\n",
      "Сегмент 7: класс 1, вероятности [6.633049e-05 9.032878e-01 9.664583e-02]\n",
      "Сегмент 8: класс 2, вероятности [4.0845090e-04 3.3187538e-01 6.6771615e-01]\n",
      "Сегмент 9: класс 1, вероятности [1.3399396e-04 9.9894029e-01 9.2574634e-04]\n",
      "Сегмент 10: класс 1, вероятности [9.3152194e-06 8.2451230e-01 1.7547832e-01]\n",
      "Сегмент 11: класс 1, вероятности [3.4082535e-05 9.8770952e-01 1.2256476e-02]\n",
      "Сегмент 12: класс 1, вероятности [0.01600933 0.96598554 0.01800507]\n",
      "Сегмент 13: класс 1, вероятности [8.3916211e-06 9.9796730e-01 2.0241858e-03]\n",
      "Сегмент 14: класс 1, вероятности [2.0291918e-04 6.2625980e-01 3.7353727e-01]\n",
      "Сегмент 15: класс 1, вероятности [4.2247344e-04 9.5238835e-01 4.7189251e-02]\n",
      "Сегмент 16: класс 1, вероятности [6.695802e-07 9.999740e-01 2.526874e-05]\n",
      "Сегмент 17: класс 1, вероятности [9.1380098e-06 8.7290984e-01 1.2708102e-01]\n"
     ]
    }
   ],
   "source": [
    "file_path = r\"D:\\python\\safevision\\SafeVision\\breath detection\\Sounds_for_cute\\dyihanie-rtom.mp3\"\n",
    "\n",
    "segments = split_audio(file_path)\n",
    "\n",
    "predictions = predict_for_segments(segments, model)\n",
    "yhat = []\n",
    "\n",
    "for i, prediction in enumerate(predictions):\n",
    "    predicted_class = np.argmax(prediction)\n",
    "    yhat.append(predicted_class)\n",
    "    print(f\"Сегмент {i + 1}: класс {predicted_class}, вероятности {prediction[0]}\")"
   ]
  },
  {
   "cell_type": "code",
   "execution_count": 68,
   "metadata": {},
   "outputs": [
    {
     "name": "stderr",
     "output_type": "stream",
     "text": [
      "C:\\Temp\\ipykernel_20628\\1587663247.py:26: MatplotlibDeprecationWarning: The BrokenBarHCollection class was deprecated in Matplotlib 3.7 and will be removed two minor releases later.\n",
      "  c = collections.BrokenBarHCollection(\n"
     ]
    },
    {
     "data": {
      "image/png": "[encoded data removed]",
      "text/plain": [
       "<Figure size 1400x500 with 1 Axes>"
      ]
     },
     "metadata": {},
     "output_type": "display_data"
    }
   ],
   "source": [
    "import matplotlib.collections as collections\n",
    "import matplotlib.patches as mpatches\n",
    "\n",
    "segments = split_audio(file_path, duration=1.0, overlap=0.5)\n",
    "\n",
    "segments = segments[:7]\n",
    "\n",
    "fig, ax = plt.subplots()\n",
    "plt.rcParams['figure.figsize'] = (14,5)\n",
    "\n",
    "x = np.linspace(0, len(segments) * 1.0, len(segments))\n",
    "\n",
    "for i, segment in enumerate(segments):\n",
    "    segment_time = np.linspace(i, i + 1, len(segment))\n",
    "    ax.plot(segment_time, segment, linewidth=0.5)\n",
    "\n",
    "for i in range(len(yhat)):\n",
    "    x_start = i\n",
    "    x_end = i + 1\n",
    "\n",
    "    yrange = (4*10000, -6*10000)\n",
    "    \n",
    "    color = 'green' if yhat[i] == 2 else 'red'\n",
    "    alpha = 0.2\n",
    "    \n",
    "    c = collections.BrokenBarHCollection(\n",
    "        [(x_start, x_end - x_start)], yrange, facecolor=color, alpha=alpha\n",
    "    )\n",
    "    ax.add_collection(c)\n",
    "\n",
    "red_patch = mpatches.Patch(color='red', label='Not Breath', alpha=0.2)\n",
    "green_patch = mpatches.Patch(color='green', label='Breath', alpha=0.2)\n",
    "\n",
    "leg1 = ax.legend(labels=['Audio recording WAV file'], loc=1)\n",
    "leg2 = ax.legend(handles=[red_patch, green_patch], loc=4)\n",
    "\n",
    "ax.add_artist(leg1)\n",
    "ax.add_artist(leg2)\n",
    "\n",
    "plt.xlabel('Time(Sec)')\n",
    "plt.ylabel('Amplitude')\n",
    "plt.show()"
   ]
  }
 ],
 "metadata": {
  "kaggle": {
   "accelerator": "none",
   "dataSources": [
    {
     "datasetId": 419793,
     "sourceId": 801863,
     "sourceType": "datasetVersion"
    }
   ],
   "dockerImageVersionId": 30527,
   "isGpuEnabled": false,
   "isInternetEnabled": true,
   "language": "python",
   "sourceType": "notebook"
  },
  "kernelspec": {
   "display_name": "myenv",
   "language": "python",
   "name": "python3"
  },
  "language_info": {
   "codemirror_mode": {
    "name": "ipython",
    "version": 3
   },
   "file_extension": ".py",
   "mimetype": "text/x-python",
   "name": "python",
   "nbconvert_exporter": "python",
   "pygments_lexer": "ipython3",
   "version": "3.10.12"
  }
 },
 "nbformat": 4,
 "nbformat_minor": 4
}
