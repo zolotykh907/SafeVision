{
 "cells": [
  {
   "cell_type": "code",
   "execution_count": 18,
   "metadata": {},
   "outputs": [],
   "source": [
    "import librosa\n",
    "from scipy import signal\n",
    "import matplotlib.pyplot as plt\n",
    "import numpy as np\n",
    "import os\n",
    "import soundfile as sf"
   ]
  },
  {
   "cell_type": "code",
   "execution_count": 5,
   "metadata": {},
   "outputs": [
    {
     "name": "stdout",
     "output_type": "stream",
     "text": [
      "920\n",
      "920\n"
     ]
    }
   ],
   "source": [
    "DATASET_PATH = r'D:\\python\\safevision\\Respiratory_Sound_Database\\audio_and_txt_files'\n",
    "audioFilePaths = []\n",
    "recordingInfoFilePaths = []\n",
    "for dirname, _, filenames in os.walk(DATASET_PATH):\n",
    "    for filename in filenames:\n",
    "        fullPath = os.path.join(dirname, filename)\n",
    "        if filename.endswith(\"wav\"):\n",
    "            audioFilePaths.append(fullPath)\n",
    "        elif filename.endswith(\"txt\"):\n",
    "            recordingInfoFilePaths.append(fullPath) \n",
    "        #print(os.path.join(dirname, filename))\n",
    "\n",
    "print(len(audioFilePaths))\n",
    "print(len(recordingInfoFilePaths))"
   ]
  },
  {
   "cell_type": "code",
   "execution_count": 7,
   "metadata": {},
   "outputs": [],
   "source": [
    "gSampleRate = 7000\n",
    "\n",
    "def loadFiles(fileList):\n",
    "    outputBuffers = []\n",
    "    for filename in fileList:\n",
    "        audioBuffer, nativeSampleRate = librosa.load(filename, dtype=np.float32, mono=True, sr=None)\n",
    "        if nativeSampleRate == gSampleRate:\n",
    "            outputBuffers.append(audioBuffer)\n",
    "        else:\n",
    "            duration = len(audioBuffer) / nativeSampleRate\n",
    "            nTargetSamples = int(duration * gSampleRate)\n",
    "            timeXSource = np.linspace(0, duration, len(audioBuffer), dtype=np.float32)\n",
    "            timeX = np.linspace(0, duration, nTargetSamples, dtype=np.float32)\n",
    "            resampledBuffer = np.interp(timeX, timeXSource, audioBuffer)\n",
    "            outputBuffers.append(resampledBuffer)\n",
    "            \n",
    "    return outputBuffers\n",
    "\n",
    "audioBuffers = loadFiles(audioFilePaths)"
   ]
  },
  {
   "cell_type": "code",
   "execution_count": 8,
   "metadata": {},
   "outputs": [],
   "source": [
    "upperCutoffFreq = 3000\n",
    "cutoffFrequencies = [80, upperCutoffFreq]\n",
    "\n",
    "highPassCoeffs = signal.firwin(401, cutoffFrequencies, fs=gSampleRate, pass_zero=\"bandpass\")\n",
    "\n",
    "def applyHighpass(npArr):\n",
    "    return signal.lfilter(highPassCoeffs, [1.0], npArr)\n",
    "\n",
    "def applyLogCompressor(signal, gamma):\n",
    "    sign = np.sign(signal)\n",
    "    absSignal = 1 + np.abs(signal) * gamma\n",
    "    logged = np.log(absSignal)\n",
    "    scaled = logged * (1 / np.log(1.0 + gamma))\n",
    "    return sign * scaled\n",
    "\n",
    "def normalizeVolume(npArr):\n",
    "    minAmp, maxAmp = (np.amin(npArr), np.amax(npArr))\n",
    "    maxEnv = max(abs(minAmp), abs(maxAmp))\n",
    "    scale = 1.0 / maxEnv\n",
    "    #in place multiply\n",
    "    npArr *= scale\n",
    "    return npArr\n",
    "\n",
    "#Removing the low-freq noise, re-normalizing volume then apply compressor\n",
    "noiseRemoved = [normalizeVolume(applyHighpass(buffer)) for buffer in audioBuffers]\n",
    "noiseRemoved = [applyLogCompressor(sig, 30) for sig in noiseRemoved]"
   ]
  },
  {
   "cell_type": "code",
   "execution_count": null,
   "metadata": {},
   "outputs": [],
   "source": [
    "def plot_spectrum(audio_signal, sample_rate=7000):\n",
    "    spectrum = np.fft.fft(audio_signal)\n",
    "    freqs = np.fft.fftfreq(len(spectrum), 1/sample_rate)\n",
    "\n",
    "    pos_mask = freqs > 0\n",
    "    spectrum = np.abs(spectrum[pos_mask])\n",
    "    freqs = freqs[pos_mask]\n",
    "\n",
    "    plt.figure(figsize=(10, 6))\n",
    "    plt.plot(freqs, spectrum)\n",
    "    plt.title('Спектр звука')\n",
    "    plt.xlabel('Частота (Гц)')\n",
    "    plt.ylabel('Амплитуда')\n",
    "    plt.grid(True)\n",
    "    plt.show()\n",
    "\n",
    "plot_spectrum(noiseRemoved[19], sample_rate=7000)\n"
   ]
  },
  {
   "cell_type": "code",
   "execution_count": null,
   "metadata": {},
   "outputs": [],
   "source": [
    "import IPython.display as ipd\n",
    "\n",
    "fig, axs = plt.subplots(1,2, figsize=(16,5))\n",
    "\n",
    "selectedSampleIdx = 0\n",
    "\n",
    "fig.suptitle('Before/After Bandpass filtering + Log Compression', fontsize=18)\n",
    "\n",
    "axs[0].plot(audioBuffers[selectedSampleIdx])\n",
    "axs[0].set_title(\"Before\")\n",
    "\n",
    "axs[1].plot(noiseRemoved[selectedSampleIdx])\n",
    "axs[1].set_title(\"After\")\n",
    "\n",
    "for ax in axs.flat:\n",
    "    ax.set(ylabel='Amplitude', xlabel='Sample Index')    \n",
    "\n",
    "plt.tight_layout() \n",
    "plt.show()\n",
    "\n",
    "print(\"Before Filtering\")\n",
    "ipd.display(ipd.Audio(audioBuffers[selectedSampleIdx], rate=gSampleRate))\n",
    "print(\"Post Filtering\")\n",
    "ipd.display(ipd.Audio(noiseRemoved[selectedSampleIdx], rate=gSampleRate))"
   ]
  },
  {
   "cell_type": "code",
   "execution_count": null,
   "metadata": {},
   "outputs": [],
   "source": [
    "from scipy.io.wavfile import write\n",
    "import numpy as np\n",
    "\n",
    "def save_audio_to_wav(audio_array, filename, sample_rate=7000):\n",
    "    audio_int16 = np.int16(audio_array * 32767)\n",
    "    write(filename, sample_rate, audio_int16)\n",
    "\n",
    "for idx, audio in enumerate(noiseRemoved):\n",
    "    filename = f'processed_audio_{idx+1}.wav'\n",
    "    save_audio_to_wav(audio, filename)\n",
    "    print(f'Сохранено: {filename}')\n"
   ]
  },
  {
   "cell_type": "code",
   "execution_count": 23,
   "metadata": {},
   "outputs": [],
   "source": [
    "OUTPUT_DATASET_PATH = r'D:\\python\\safevision\\Respiratory_Sound_Database\\PROCESSING_BIG_DATASET/'\n",
    "\n",
    "for i, audio_buffer in enumerate(noiseRemoved):\n",
    "    # Извлекаем имя файла без расширения\n",
    "    base_name = os.path.splitext(os.path.basename(audioFilePaths[i]))[0]\n",
    "\n",
    "    # Путь для сохранения аудиофайла\n",
    "    output_audio_path = os.path.join(OUTPUT_DATASET_PATH, f\"{base_name}_processed.wav\")\n",
    "    \n",
    "    # Сохраняем аудиофайл в формате WAV\n",
    "    sf.write(output_audio_path, audio_buffer, 7000)  # 7000 Hz - частота дискретизации\n",
    "\n",
    "    # Найти соответствующий текстовый файл с таким же именем\n",
    "    corresponding_txt_file = None\n",
    "    for txt_path in recordingInfoFilePaths:\n",
    "        if base_name in os.path.basename(txt_path):\n",
    "            corresponding_txt_file = txt_path\n",
    "            break\n",
    "    \n",
    "    if corresponding_txt_file:\n",
    "        # Копируем текстовый файл в целевую директорию с тем же именем\n",
    "        output_txt_path = os.path.join(OUTPUT_DATASET_PATH, f\"{base_name}_processed.txt\")\n",
    "        with open(corresponding_txt_file, 'r') as txt_file:\n",
    "            txt_content = txt_file.read()\n",
    "\n",
    "        with open(output_txt_path, 'w') as output_txt_file:\n",
    "            output_txt_file.write(txt_content)\n",
    "    else:\n",
    "        print(f\"Текстовый файл для {base_name} не найден.\")\n"
   ]
  }
 ],
 "metadata": {
  "kernelspec": {
   "display_name": ".safevision",
   "language": "python",
   "name": "python3"
  },
  "language_info": {
   "codemirror_mode": {
    "name": "ipython",
    "version": 3
   },
   "file_extension": ".py",
   "mimetype": "text/x-python",
   "name": "python",
   "nbconvert_exporter": "python",
   "pygments_lexer": "ipython3",
   "version": "3.8.3"
  }
 },
 "nbformat": 4,
 "nbformat_minor": 2
}
